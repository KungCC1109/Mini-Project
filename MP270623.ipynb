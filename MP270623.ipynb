{
 "cells": [
  {
   "cell_type": "markdown",
   "id": "061d11eb",
   "metadata": {},
   "source": [
    "#Learning outcome\n",
    "1. Python fundamentals\n",
    ". basic syntax\n",
    ". custom function\n",
    ". data types\n",
    ". data structure\n",
    ".\n",
    "\n"
   ]
  },
  {
   "cell_type": "markdown",
   "id": "6f4a31d5",
   "metadata": {},
   "source": [
    "basic syntax\n"
   ]
  },
  {
   "cell_type": "code",
   "execution_count": 1,
   "id": "6bdcc32a",
   "metadata": {},
   "outputs": [
    {
     "name": "stdout",
     "output_type": "stream",
     "text": [
      "Hello World\n"
     ]
    }
   ],
   "source": [
    "print(\"Hello World\")"
   ]
  },
  {
   "cell_type": "markdown",
   "id": "ce30ef94",
   "metadata": {},
   "source": [
    "Custom Function"
   ]
  },
  {
   "cell_type": "code",
   "execution_count": 4,
   "id": "94e6206a",
   "metadata": {},
   "outputs": [],
   "source": [
    "def AddTwoNumbers(x,y):\n",
    "    return (x+y)"
   ]
  },
  {
   "cell_type": "code",
   "execution_count": 5,
   "id": "df9660a7",
   "metadata": {},
   "outputs": [
    {
     "data": {
      "text/plain": [
       "12"
      ]
     },
     "execution_count": 5,
     "metadata": {},
     "output_type": "execute_result"
    }
   ],
   "source": [
    "AddTwoNumbers(2,10)"
   ]
  },
  {
   "cell_type": "code",
   "execution_count": 6,
   "id": "43ed1867",
   "metadata": {},
   "outputs": [],
   "source": [
    "def compare(x,y):\n",
    "    if x > y:\n",
    "        print(f\"{x} is larger than {u}\")\n",
    "    elif y > x:\n",
    "        print(f\"{x} is less than {y}\")\n",
    "    else:\n",
    "        print(f\"{x} and {y} are equal\")"
   ]
  },
  {
   "cell_type": "code",
   "execution_count": 7,
   "id": "5706c797",
   "metadata": {},
   "outputs": [
    {
     "name": "stdout",
     "output_type": "stream",
     "text": [
      "1 is less than 2\n"
     ]
    }
   ],
   "source": [
    "compare(1,2)"
   ]
  },
  {
   "cell_type": "markdown",
   "id": "29b4b97c",
   "metadata": {},
   "source": [
    "data types\n",
    ".floating point numbers, e.g. float32 and float64.\n",
    ".complex number\n",
    ".string\n",
    ".integer"
   ]
  },
  {
   "cell_type": "code",
   "execution_count": 1,
   "id": "7b01137a",
   "metadata": {},
   "outputs": [
    {
     "name": "stdout",
     "output_type": "stream",
     "text": [
      "<class 'float'>\n",
      "<class 'int'>\n",
      "<class 'str'>\n",
      "<class 'bool'>\n",
      "<class 'complex'>\n"
     ]
    }
   ],
   "source": [
    "import math\n",
    "\n",
    "x = math.pi\n",
    "y = 0\n",
    "z = \"Computer Vision is fun\"\n",
    "z1 = False   #true\n",
    "z2 = 2j\n",
    "\n",
    "print(type(x))\n",
    "print(type(y))\n",
    "print(type(z))\n",
    "print(type(z1))\n",
    "print(type(z2))"
   ]
  },
  {
   "cell_type": "code",
   "execution_count": 15,
   "id": "7d621934",
   "metadata": {},
   "outputs": [],
   "source": [
    "from IPython.core.interactiveshell import InteractiveShell\n",
    "InteractiveShell.ast_node_interactive = \"all\""
   ]
  },
  {
   "cell_type": "markdown",
   "id": "02e07e6b",
   "metadata": {},
   "source": [
    "data struct"
   ]
  },
  {
   "cell_type": "code",
   "execution_count": 9,
   "id": "9c947521",
   "metadata": {},
   "outputs": [
    {
     "data": {
      "text/plain": [
       "['a', 'b', 'c']"
      ]
     },
     "execution_count": 9,
     "metadata": {},
     "output_type": "execute_result"
    }
   ],
   "source": [
    "myList = [\"a\", \"b\", \"c\"]\n",
    "myList"
   ]
  },
  {
   "cell_type": "code",
   "execution_count": 1,
   "id": "24cc0d38",
   "metadata": {},
   "outputs": [],
   "source": [
    "import numpy as np\n"
   ]
  },
  {
   "cell_type": "code",
   "execution_count": 3,
   "id": "fab6ca13",
   "metadata": {},
   "outputs": [
    {
     "name": "stdout",
     "output_type": "stream",
     "text": [
      "[1 2 3 4 5]\n",
      "<class 'numpy.ndarray'>\n"
     ]
    }
   ],
   "source": [
    "x = np.array([1, 2, 3, 4, 5])\n",
    "print(x)\n",
    "print(type(x))"
   ]
  },
  {
   "cell_type": "code",
   "execution_count": 2,
   "id": "7c0f8344",
   "metadata": {},
   "outputs": [],
   "source": [
    "import matplotlib.pyplot as plt"
   ]
  },
  {
   "cell_type": "code",
   "execution_count": 7,
   "id": "ee73277c",
   "metadata": {},
   "outputs": [
    {
     "data": {
      "image/png": "[encoded data removed]",
      "text/plain": [
       "<Figure size 640x480 with 1 Axes>"
      ]
     },
     "metadata": {},
     "output_type": "display_data"
    }
   ],
   "source": [
    "# Create a dark grayscale image (2D array)\n",
    "gray = np.zeros((200, 200), dtype=\"uint8\")\n",
    "\n",
    "plt.imshow(gray, cmap = plt.cm.gray)\n",
    "plt.title(\"grayscale black image\")\n",
    "plt.xticks([]), plt.yticks([])\n",
    "plt.show()"
   ]
  },
  {
   "cell_type": "code",
   "execution_count": 8,
   "id": "727c87bd",
   "metadata": {
    "scrolled": true
   },
   "outputs": [
    {
     "data": {
      "image/png": "[encoded data removed]",
      "text/plain": [
       "<Figure size 640x480 with 1 Axes>"
      ]
     },
     "metadata": {},
     "output_type": "display_data"
    }
   ],
   "source": [
    "white = 255 * np.ones((200, 200))\n",
    "white = np.uint8(white)\n",
    "\n",
    "plt.imshow(white, cmap = plt.cm.gray, vmin=0, vmax=255)\n",
    "plt.title(\"grayscale white image\")\n",
    "plt.xticks([]), plt.yticks([])\n",
    "plt.show()\n"
   ]
  },
  {
   "cell_type": "code",
   "execution_count": 9,
   "id": "104306f6",
   "metadata": {},
   "outputs": [
    {
     "data": {
      "image/png": "[encoded data removed]",
      "text/plain": [
       "<Figure size 640x480 with 1 Axes>"
      ]
     },
     "metadata": {},
     "output_type": "display_data"
    }
   ],
   "source": [
    "noise_color_img = np.random.randint(0, high=256, size = (100, 100, 3), dtype=np.uint8)\n",
    "\n",
    "plt.imshow(noise_color_img)\n",
    "plt.title(\"random noise color image\")\n",
    "plt.xticks([]), plt.yticks([])\n",
    "plt.show()"
   ]
  },
  {
   "cell_type": "code",
   "execution_count": 25,
   "id": "4fe60e7b",
   "metadata": {},
   "outputs": [],
   "source": [
    "def OddEven(x):\n",
    "    if isinstance(x, int):\n",
    "        if x%2 == 0:\n",
    "            if x==0:\n",
    "                statement = \"is neither even or odd\"\n",
    "            else:\n",
    "                statement = \"is even number\"\n",
    "        else:\n",
    "            statement = \"is odd number\"\n",
    "    else:\n",
    "        statement = \"is not an integer!\"\n",
    "        \n",
    "    return print(f\"{x}\" + statement)"
   ]
  },
  {
   "cell_type": "code",
   "execution_count": 26,
   "id": "258ca2c3",
   "metadata": {
    "scrolled": true
   },
   "outputs": [
    {
     "name": "stdout",
     "output_type": "stream",
     "text": [
      "0is neither even or odd\n"
     ]
    }
   ],
   "source": [
    "OddEven(0)"
   ]
  },
  {
   "cell_type": "code",
   "execution_count": 27,
   "id": "35e5afa4",
   "metadata": {},
   "outputs": [
    {
     "name": "stdout",
     "output_type": "stream",
     "text": [
      "0.4is not an integer!\n"
     ]
    }
   ],
   "source": [
    "OddEven(0.4)"
   ]
  },
  {
   "cell_type": "code",
   "execution_count": 28,
   "id": "8d35c9b3",
   "metadata": {},
   "outputs": [
    {
     "name": "stdout",
     "output_type": "stream",
     "text": [
      "5is odd number\n"
     ]
    }
   ],
   "source": [
    "OddEven(5)"
   ]
  },
  {
   "cell_type": "code",
   "execution_count": 30,
   "id": "73164576",
   "metadata": {},
   "outputs": [],
   "source": [
    "large_n = 1e5  #100,000\n",
    "\n",
    "numpy_arr= np.arange(large_n)\n",
    "list_arr = list(range(int(large_n)))"
   ]
  },
  {
   "cell_type": "code",
   "execution_count": 31,
   "id": "f81e979c",
   "metadata": {
    "scrolled": true
   },
   "outputs": [
    {
     "name": "stdout",
     "output_type": "stream",
     "text": [
      "[0. 1. 2. 3. 4.]\n",
      "[0, 1, 2, 3, 4]\n"
     ]
    }
   ],
   "source": [
    "print(numpy_arr[:5])\n",
    "print(list_arr[:5])"
   ]
  },
  {
   "cell_type": "markdown",
   "id": "d9d524ca",
   "metadata": {},
   "source": [
    "ex3"
   ]
  },
  {
   "cell_type": "code",
   "execution_count": 23,
   "id": "df680ceb",
   "metadata": {},
   "outputs": [
    {
     "name": "stdout",
     "output_type": "stream",
     "text": [
      "[0 1 2 3 4 5 6 7 8 9]\n",
      "[ 0  1  2  3 25 25 25  7  8  9]\n",
      "[-1 25 25]\n",
      "[ 0  1  2  3 -1 25 25  7  8  9]\n",
      "[-1  0 25]\n",
      "[ 0  1  2  3 -1  0 25  7  8  9]\n"
     ]
    }
   ],
   "source": [
    "my_arr = np.arange(10)\n",
    "print(my_arr)\n",
    "my_arr[4:7] = 25\n",
    "print(my_arr)\n",
    "arr_slice = my_arr[4:7]\n",
    "\n",
    " # Change the first element of arr_slice to -1\n",
    "arr_slice[0]= -1\n",
    "\n",
    "print(arr_slice)\n",
    "print(my_arr)\n",
    "\n",
    "arr_slice[1] = 0\n",
    "print(arr_slice)\n",
    "print(my_arr)"
   ]
  },
  {
   "cell_type": "markdown",
   "id": "b5d31cc9",
   "metadata": {},
   "source": [
    "ex4"
   ]
  },
  {
   "cell_type": "code",
   "execution_count": 3,
   "id": "4daa4f96",
   "metadata": {},
   "outputs": [
    {
     "data": {
      "image/png": "[encoded data removed]",
      "text/plain": [
       "<Figure size 640x480 with 1 Axes>"
      ]
     },
     "metadata": {},
     "output_type": "display_data"
    }
   ],
   "source": [
    "width = 200\n",
    "height = 200\n",
    "\n",
    "\n",
    "image = np.zeros((height, width), dtype=\"uint8\")\n",
    "\n",
    "# calculate the center coordinates\n",
    "center_x = width // 2\n",
    "center_y = height // 2\n",
    "\n",
    "# calculate radius of circular spot\n",
    "radius = min(width, height) // 8\n",
    "\n",
    "# generate the coordinates grid\n",
    "y, x = np.ogrid[:height, :width]\n",
    "\n",
    "# create the mask on the center\n",
    "mask = (x - center_x) ** 2 + (y - center_y) ** 2 <= radius ** 2\n",
    "\n",
    "# create the mask in white\n",
    "image[mask] = 255\n",
    "\n",
    "\n",
    "plt.imshow(image, cmap='gray')\n",
    "plt.xticks([]), plt.yticks([])\n",
    "plt.show()"
   ]
  }
 ],
 "metadata": {
  "kernelspec": {
   "display_name": "Python 3 (ipykernel)",
   "language": "python",
   "name": "python3"
  },
  "language_info": {
   "codemirror_mode": {
    "name": "ipython",
    "version": 3
   },
   "file_extension": ".py",
   "mimetype": "text/x-python",
   "name": "python",
   "nbconvert_exporter": "python",
   "pygments_lexer": "ipython3",
   "version": "3.10.9"
  }
 },
 "nbformat": 4,
 "nbformat_minor": 5
}
