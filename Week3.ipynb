{
 "cells": [
  {
   "cell_type": "markdown",
   "id": "a0f9317e",
   "metadata": {},
   "source": [
    "# Learning outcome\n",
    "1. LOad, display and save images\n",
    "2. Load, show and save videos\n",
    "3. Image resizing"
   ]
  },
  {
   "cell_type": "markdown",
   "id": "0a42c8cb",
   "metadata": {},
   "source": [
    "# Why OpenCV?\n",
    "- Large community support, i.e, you can find a lot of resources online\n",
    "- Compatible with several OS, MacOS, window and linux. Can be written in C++, Python and Java Language\n",
    "- Interoperable with Numoy module, thereby fast computations and mathematical operation on image array"
   ]
  },
  {
   "cell_type": "markdown",
   "id": "cb9f3c27",
   "metadata": {},
   "source": [
    "# Setup"
   ]
  },
  {
   "cell_type": "code",
   "execution_count": 30,
   "id": "293a0968",
   "metadata": {},
   "outputs": [
    {
     "data": {
      "text/plain": [
       "True"
      ]
     },
     "execution_count": 30,
     "metadata": {},
     "output_type": "execute_result"
    }
   ],
   "source": [
    "import sys\n",
    "# Python 3.7 is required\n",
    "assert sys.version_info >= (3, 7)\n",
    "\n",
    "import cv2 as cv\n",
    "import cv2 as cv2\n",
    "import numpy as np\n",
    "import matplotlib.pyplot as plt\n",
    "\n",
    "# Make sure that OpenCV optimization is enabled\n",
    "if not cv.useOptimized():\n",
    "    cv.setUseOptimized(True)\n",
    "    \n",
    "cv.useOptimized()\n"
   ]
  },
  {
   "cell_type": "markdown",
   "id": "3b22f331",
   "metadata": {},
   "source": [
    "Different formats of images\n",
    "There are wide variety of image file types out there. We will discuss a few common image formats, including:\n",
    "\n",
    "TIFF(.tif)\n",
    "Can be either lossless or lossy compression.\n",
    "Used for storing high quality images with detailed color information, thus it is one of the preferred format in printing and publishing.\n",
    "Large file size\n",
    "BMP(.bmp)\n",
    "Uncompressed BMP file could have much larger file size compared to JPEG and PNG.\n",
    "device-independent and compatible with various web browsers and softwares.\n",
    "Can only work with RGB image.\n",
    "GIF(.gif) (OPen cv cannot handle this)\n",
    "GIF files can store multiple frames, enabling simple animations.\n",
    "GIF files can have transparent backgrounds, similar to PNG.\n",
    "cv.imread() function can't handle this format, we need other external module.\n",
    "JPEG(.jpeg, .jpg, .jfif)\n",
    "Lossy compression\n",
    "JPEG is highly popular supported by virtually all image editing softwares and browsers.\n",
    "PNG(.png)\n",
    "Lossless compression\n",
    "Has larger file size compared to JPEG\n",
    "widely supported, similar to JPEG\n",
    "WebP(.webp) \n",
    "Allows websites to display high-quality images.\n",
    "Offers smaller file sizes compared to JPEG and PNG. Uncompressed WebP images are 1.42x smaller than JPEG and 1.7x smaller than PNG."
   ]
  },
  {
   "cell_type": "code",
   "execution_count": 16,
   "id": "d850e237",
   "metadata": {},
   "outputs": [],
   "source": [
    "img = cv.imread(\"images/lena.jfif\")\n",
    "img_grayscale = cv.imread(\"images/lena.jfif\", 0)\n",
    "# 0 is grayscale, -1: cv.IMREAD_UNCHANGED, 1 DEFAULT\n",
    "\n",
    "cv.imshow(\"lena_color\", img)\n",
    "cv.imshow(\"lena_grayscale\", img_grayscale)\n",
    "cv.waitKey(0) #keyboard binding funtion, wait for user responde\n",
    "cv.destroyAllWindows()"
   ]
  },
  {
   "cell_type": "code",
   "execution_count": 17,
   "id": "f43d1d5c",
   "metadata": {},
   "outputs": [],
   "source": [
    "def show_img(window_name, img):\n",
    "    \"\"\"Arguments: window_name and img\"\"\"\n",
    "    cv.imshow(window_name, img)\n",
    "    cv.waitKey(0) #keyboard binding funtion, wait for user responde\n",
    "    cv.destroyAllWindows()"
   ]
  },
  {
   "cell_type": "code",
   "execution_count": 18,
   "id": "ab20e3cb",
   "metadata": {},
   "outputs": [],
   "source": [
    "img = cv.imread(\"images/lena.jfif\")\n",
    "\n",
    "show_img(\"lena\", img)"
   ]
  },
  {
   "cell_type": "code",
   "execution_count": 19,
   "id": "c9a13b71",
   "metadata": {},
   "outputs": [
    {
     "name": "stdout",
     "output_type": "stream",
     "text": [
      "The shape of jpg image: (225, 225, 3)\n",
      "The shape of png image: (225, 225, 4)\n"
     ]
    }
   ],
   "source": [
    "# show difference between jpg n png image\n",
    "\n",
    "img_jpeg = cv.imread(\"images/lena.jfif\", -1)\n",
    "img_png = cv.imread(\"images/lena.png\", -1)\n",
    "\n",
    "print(f\"The shape of jpg image: {img_jpeg.shape}\")\n",
    "print(f\"The shape of png image: {img_png.shape}\")"
   ]
  },
  {
   "cell_type": "code",
   "execution_count": 20,
   "id": "04c41198",
   "metadata": {},
   "outputs": [],
   "source": [
    "import imageio\n",
    "\n",
    "GIF = imageio.mimread(\"images/rotating_earth_large.gif\")\n",
    "#cinvert RGB to BGR\n",
    "\n",
    "imgs = [cv.cvtColor(img, cv.COLOR_RGB2BGR) for img in GIF]\n",
    "\n",
    "show_img(\"gif\", imgs[0])\n",
    "\n",
    "for img in imgs:\n",
    "    cv.imshow(\"GIF\", img)\n",
    "    cv.waitKey(150) #wait 150ms for user input\n",
    "\n",
    "cv.destroyAllWindows()"
   ]
  },
  {
   "cell_type": "markdown",
   "id": "d641c478",
   "metadata": {},
   "source": [
    "# save images\n",
    "cv.imwrite(filename, img)"
   ]
  },
  {
   "cell_type": "code",
   "execution_count": 21,
   "id": "3278adcb",
   "metadata": {},
   "outputs": [],
   "source": [
    "# a good way to load, display and save images\n",
    "img = cv.imread(cv.samples.findFile(\"images/lena.jfif\"))\n",
    "\n",
    "if img is None:\n",
    "    sys.exit(\"NO such file path!\")\n",
    "    \n",
    "cv.imshow(\"img\", img)\n",
    "k = cv.waitKey(0) & 0xFF #\n",
    "\n",
    "if k == ord('s'):\n",
    "    cv.imwrite(\"lena_save.jpg\", img)\n",
    "    \n",
    "cv.destroyAllWindows()"
   ]
  },
  {
   "cell_type": "markdown",
   "id": "350992f6",
   "metadata": {},
   "source": [
    "# basic operation on videos\n",
    "video is basically a sequence of images\n",
    "\n",
    "### Load and display video with openCV"
   ]
  },
  {
   "cell_type": "code",
   "execution_count": 22,
   "id": "1d1e822a",
   "metadata": {},
   "outputs": [],
   "source": [
    "#initiate an object\n",
    "\n",
    "cap = cv.VideoCapture(\"videos/img_pexels.mp4\")\n",
    "\n",
    "if not cap.isOpened():\n",
    "    sys.exit(\"The video is not correct\")\n",
    "    \n",
    "cv.namedWindow(\"frame\", cv.WINDOW_NORMAL)\n",
    "while True:\n",
    "    ret, frame = cap.read()\n",
    "    \n",
    "    if not ret:\n",
    "        print(\"No frame received!\")\n",
    "        break\n",
    "        \n",
    "    cv.imshow(\"frame\", frame)\n",
    "    k = cv.waitKey(1) & 0xFF\n",
    "    if k == 27:\n",
    "        break\n",
    "        \n",
    "cap.release()\n",
    "cv.destroyAllWindows()"
   ]
  },
  {
   "cell_type": "code",
   "execution_count": 27,
   "id": "7075f44e",
   "metadata": {},
   "outputs": [],
   "source": [
    "# use webcam get the video and save it on local disk\n",
    "\n",
    "cap = cv.VideoCapture(0)\n",
    "\n",
    "if not cap.isOpened():\n",
    "    sys.exit(\"The video is not correct\")\n",
    "\n",
    "#file path, fourcc, fps, frame size\n",
    "fourcc = cv.VideoWriter_fourcc(\"M\", \"J\", \"P\", \"G\")\n",
    "fps = 15\n",
    "w, h = int(cap.get(3)), int(cap.get(4))\n",
    "out = cv.VideoWriter(\"videos/out.avi\", fourcc, fps, (w, h))\n",
    "\n",
    "while True:\n",
    "    ret, frame = cap.read()\n",
    "    \n",
    "    if not ret:\n",
    "        print(\"No frame received!\")\n",
    "        break\n",
    "    out.write(frame)\n",
    "    cv.imshow(\"frame\", frame)\n",
    "    k = cv.waitKey(1) & 0xFF\n",
    "    #esc key = 27\n",
    "    if k == 27:\n",
    "        break\n",
    "        \n",
    "cap.release()\n",
    "out.release()\n",
    "cv.destroyAllWindows()"
   ]
  },
  {
   "cell_type": "code",
   "execution_count": null,
   "id": "ed2990d5",
   "metadata": {},
   "outputs": [],
   "source": [
    "cap = cv.VideoCapture(0)\n",
    "print(f\"fps of webcam: {cap.get(5)}\")"
   ]
  },
  {
   "cell_type": "code",
   "execution_count": null,
   "id": "935bc82b",
   "metadata": {},
   "outputs": [],
   "source": [
    "import time"
   ]
  },
  {
   "cell_type": "code",
   "execution_count": null,
   "id": "37f7331a",
   "metadata": {},
   "outputs": [],
   "source": [
    "#initiate an object\n",
    "\n",
    "cap = cv.VideoCapture(\"videos/img_pexels.mp4\")\n",
    "\n",
    "if not cap.isOpened():\n",
    "    sys.exit(\"The video is not correct\")\n",
    "    \n",
    "cv.namedWindow(\"frame\", cv.WINDOW_NORMAL)\n",
    "start = time.time()\n",
    "while True:\n",
    "    ret, frame = cap.read()\n",
    "    \n",
    "    if not ret:\n",
    "        print(\"No frame received!\")\n",
    "        break\n",
    "        \n",
    "    cv.imshow(\"frame\", frame)\n",
    "    k = cv.waitKey(1) & 0xFF\n",
    "    if k == 27:\n",
    "        break\n",
    "    \n",
    "end = time.time()\n",
    "#cap.release()\n",
    "cv.destroyAllWindows()"
   ]
  },
  {
   "cell_type": "code",
   "execution_count": null,
   "id": "d7ebca54",
   "metadata": {
    "scrolled": true
   },
   "outputs": [],
   "source": [
    "print(f\"The fps: {cap.get(5)}\")\n",
    "n_frames = cap.get(7)\n",
    "print(f\"The estimated fps using open cv function: {n_frames / (end - start)}\")"
   ]
  },
  {
   "cell_type": "markdown",
   "id": "50043dae",
   "metadata": {},
   "source": [
    "# image resizing\n",
    "There are 2 way to do the image resixzing:\n",
    "\n",
    "1. specify the desired image width and height\n",
    "2. scale factor (maintain the aspect ratio)\n",
    "\n",
    "cv.resize(img, (x_new, y_new), fx, fy, interpolation)\n",
    "\n",
    "The default interpolation is bilinear interpolation"
   ]
  },
  {
   "cell_type": "code",
   "execution_count": 35,
   "id": "d6242600",
   "metadata": {},
   "outputs": [],
   "source": [
    "img = cv.imread(\"images/soccer.jpg\")\n",
    "\n",
    "new_height = 450\n",
    "new_width = 300\n",
    "\n",
    "img_resize = cv.resize(img, (new_width, new_height))\n",
    "\n",
    "cv.imshow(\"original\", img)\n",
    "show_img(\"resize\", img_resize)"
   ]
  },
  {
   "cell_type": "code",
   "execution_count": null,
   "id": "97247507",
   "metadata": {},
   "outputs": [],
   "source": [
    "img.shape #height first here"
   ]
  },
  {
   "cell_type": "code",
   "execution_count": 36,
   "id": "7a3e3e21",
   "metadata": {},
   "outputs": [],
   "source": [
    "# 2nd method using scale factor\n",
    "\n",
    "img = cv.imread(\"images/lena.jfif\")\n",
    "\n",
    "img_resize = cv.resize(img, None, fx=1.5, fy=1.5)\n",
    "\n",
    "cv.imshow(\"original\", img)\n",
    "show_img(\"resize\", img_resize)"
   ]
  },
  {
   "cell_type": "markdown",
   "id": "c4d13531",
   "metadata": {},
   "source": [
    "# ex1"
   ]
  },
  {
   "cell_type": "code",
   "execution_count": null,
   "id": "677a7b25",
   "metadata": {},
   "outputs": [],
   "source": [
    "# a good way to load, display and save images\n",
    "img = cv.imread(cv.samples.findFile(\"images/dog.jfif\"))\n",
    "\n",
    "if img is None:\n",
    "    sys.exit(\"NO such file path!\")\n",
    "    \n",
    "cv.imshow(\"img\", img)\n",
    "k = cv.waitKey(0) & 0xFF #\n",
    "\n",
    "if k == ord('s'):\n",
    "    cv.imwrite(\"dog_save.png\", img)\n",
    "    \n",
    "cv.destroyAllWindows()"
   ]
  },
  {
   "cell_type": "markdown",
   "id": "a0abd9b0",
   "metadata": {},
   "source": [
    "# ex2"
   ]
  },
  {
   "cell_type": "code",
   "execution_count": null,
   "id": "ddca6007",
   "metadata": {},
   "outputs": [],
   "source": [
    "img = cv.imread(\"images/dog.jfif\")\n",
    "img_grayscale = cv.imread(\"images/dog.jfif\", 0)\n",
    "# 0 is grayscale, -1: cv.IMREAD_UNCHANGED, 1 DEFAULT\n",
    "\n",
    "cv.imshow(\"dog_color\", img)\n",
    "show_img(\"grayscale\", img_grayscale)\n",
    "#cv.imshow(\"dog_grayscale\", img_grayscale)\n",
    "cv.waitKey(0) #keyboard binding funtion, wait for user responde\n",
    "cv.destroyAllWindows()"
   ]
  },
  {
   "cell_type": "code",
   "execution_count": 25,
   "id": "7bb312c2",
   "metadata": {},
   "outputs": [],
   "source": [
    "#2nd way\n",
    "import matplotlib.pyplot as plt"
   ]
  },
  {
   "cell_type": "code",
   "execution_count": null,
   "id": "f65ebae1",
   "metadata": {
    "scrolled": true
   },
   "outputs": [],
   "source": [
    "img_rgb = cv.cvtColor(img, cv.COLOR_BGR2RGB)\n",
    "\n",
    "plt.subplot(121)\n",
    "plt.imshow(img_rgb)\n",
    "plt.xticks([]), plt.yticks([])\n",
    "plt.subplot(122)\n",
    "plt.imshow(img_grayscale, cmap=plt.cm.gray)\n",
    "plt.xticks([]), plt.yticks([])\n",
    "plt.suptitle(\"Display 2 image at once\")\n",
    "plt.show()"
   ]
  },
  {
   "cell_type": "code",
   "execution_count": null,
   "id": "7f010f89",
   "metadata": {},
   "outputs": [],
   "source": [
    "# convert the gAYSCALE TO BGR\n",
    "\n",
    "img_gray_bgr = cv.cvtColor(img_grayscale, cv.COLOR_GRAY2BGR)\n",
    "\n",
    "img_combined = np.hstack([img, img_gray_bgr])\n",
    "\n",
    "show_img(\"img_combined\", img_combined)"
   ]
  },
  {
   "cell_type": "markdown",
   "id": "ed412161",
   "metadata": {},
   "source": [
    "# ex3\n",
    "\n",
    "Write codes that performs the following:\n",
    "Load the video “img_pexels.mp4” into the Python environment, resize it and display the videos with smaller frames (The frames can be of any size, as long as it is smaller). You can specify an arbitrary frame rate.\n",
    "\n",
    "Save it as a separate files: “smaller_img_pexels.avi” or \"smaller_img_pexels.mp4\""
   ]
  },
  {
   "cell_type": "code",
   "execution_count": null,
   "id": "1b8d93eb",
   "metadata": {},
   "outputs": [],
   "source": [
    "#initiate an object\n",
    "\n",
    "cap = cv.VideoCapture(\"videos/img_pexels.mp4\")\n",
    "fourcc = cv.VideoWriter_fourcc(\"H\", \"2\", \"6\", \"4\")\n",
    "w, h = int(cap.get(3))//2, int(cap.get(4))//2\n",
    "out = cv.VideoWriter('smaller_img_pexels.mp4', fourcc, 24.0, (w,h))\n",
    "\n",
    "\n",
    "\n",
    "if not cap.isOpened():\n",
    "    sys.exit(\"The video is not correct\")\n",
    "    \n",
    "cv.namedWindow(\"frame\", cv.WINDOW_NORMAL)\n",
    "while True:\n",
    "    ret, frame = cap.read()\n",
    "    \n",
    "    if not ret:\n",
    "        print(\"No frame received!\")\n",
    "        break\n",
    "        \n",
    "    out.write(cv.resize(frame, (w,h), interpolation=cv.INTER_AREA))\n",
    "        \n",
    "    cv.imshow(\"frame\", frame)\n",
    "    k = cv.waitKey(1) & 0xFF\n",
    "    if k == 27:\n",
    "        break\n",
    "        \n",
    "\n",
    "out.release()\n",
    "cap.release()\n",
    "cv.destroyAllWindows()"
   ]
  },
  {
   "cell_type": "markdown",
   "id": "36f0c658",
   "metadata": {},
   "source": [
    "# ex4\n",
    "    Enlarge the image \"dog.jfif\" by using different techniques: 1) Linear interpolation, 2) Cubic interpolation and 3) nearest neighbor interpolation. \n"
   ]
  },
  {
   "cell_type": "code",
   "execution_count": 47,
   "id": "5358c9b6",
   "metadata": {},
   "outputs": [],
   "source": [
    "image = cv.imread(\"images/dog.jfif\")\n",
    "\n",
    "resize = cv.resize(image, None, fx=4, fy=4)\n",
    "cv.imwrite(\"resize.jpg\", resize)\n",
    "\n",
    "linear_interpolation = cv.resize(image, None, fx=4, fy=4, interpolation=cv.INTER_LINEAR)\n",
    "cv.imwrite(\"dog_linear_interpolation.jpg\", linear_interpolation)\n",
    "\n",
    "cubic_interpolation = cv2.resize(image, None, fx=4, fy=4, interpolation=cv2.INTER_CUBIC)\n",
    "cv2.imwrite(\"dog_cubic_interpolation.jpg\", cubic_interpolation)\n",
    "\n",
    "nearest_neighbor_interpolation = cv2.resize(image, None, fx=4, fy=4, interpolation=cv2.INTER_NEAREST)\n",
    "cv2.imwrite(\"dog_nearest_neighbor_interpolation.jpg\", nearest_neighbor_interpolation)\n",
    "\n",
    "show_img(\"resize\", resize)\n",
    "show_img(\"dog_linear_interpolation.jpg\", linear_interpolation)\n",
    "show_img(\"dog_cubic_interpolation.jpg\", cubic_interpolation)\n",
    "show_img(\"dog_nearest_neighbor_interpolation.jpg\", nearest_neighbor_interpolation)"
   ]
  }
 ],
 "metadata": {
  "kernelspec": {
   "display_name": "Python 3 (ipykernel)",
   "language": "python",
   "name": "python3"
  },
  "language_info": {
   "codemirror_mode": {
    "name": "ipython",
    "version": 3
   },
   "file_extension": ".py",
   "mimetype": "text/x-python",
   "name": "python",
   "nbconvert_exporter": "python",
   "pygments_lexer": "ipython3",
   "version": "3.10.9"
  }
 },
 "nbformat": 4,
 "nbformat_minor": 5
}
